{
 "cells": [
  {
   "cell_type": "markdown",
   "id": "b35bc1d2",
   "metadata": {},
   "source": [
    "# welcome to Inventary Mangement Project\n"
   ]
  },
  {
   "cell_type": "code",
   "execution_count": 2,
   "id": "bd00f806",
   "metadata": {},
   "outputs": [],
   "source": [
    "from datetime import date\n",
    "import json\n"
   ]
  },
  {
   "cell_type": "code",
   "execution_count": 3,
   "id": "621c388f",
   "metadata": {},
   "outputs": [],
   "source": [
    "def addnewInInventary():\n",
    "    \n",
    "    n = input(\"name -\") \n",
    "    e = input (\"exp date -\" )\n",
    "    q = int(input (\"quantity -\"))\n",
    "    c = input (\"category -\")\n",
    "    pr = int(input (\"price -\"))\n",
    "\n",
    "    with  open(\"pro.json\",\"r\") as f:\n",
    "        s =json.loads( f.read())\n",
    "    p=1\n",
    "    for x in s:\n",
    "        if s[x][\"name\"] == n and int(pr) == int(s[x][\"price(INR)\"]):\n",
    "            print(\"product already in Inventary\")\n",
    "            p=0\n",
    "        \n",
    "    if p ==1:\n",
    "        l =len(s)\n",
    "        pid = str(l+1)\n",
    "        y = {\"name\": n,\"qunatity\": q,\"price(INR)\":pr,\"expdate\": e,\"category\": c}\n",
    "        s[str(pid)] = y\n",
    "\n",
    "        with open (\"pro.json\",\"w\") as f:\n",
    "            f.write(json.dumps(s))\n",
    "        print(f\"...........pid for {n} is {pid}.............\")    \n",
    "        print(\"all updates registered successfully\")"
   ]
  },
  {
   "cell_type": "code",
   "execution_count": 4,
   "id": "04dfcc93",
   "metadata": {},
   "outputs": [
    {
     "name": "stdout",
     "output_type": "stream",
     "text": [
      "name -fanta\n",
      "exp date -02-03-22\n",
      "quantity -42\n",
      "category -colddrink\n",
      "price -25\n",
      "...........pid for fanta is 35.............\n",
      "all updates registered successfully\n"
     ]
    }
   ],
   "source": [
    "addnewInInventary()"
   ]
  },
  {
   "cell_type": "code",
   "execution_count": 5,
   "id": "61ef2ed0",
   "metadata": {},
   "outputs": [
    {
     "name": "stdout",
     "output_type": "stream",
     "text": [
      "name -pizza-cheese\n",
      "exp date -10-12-21\n",
      "quantity -421\n",
      "category -kitchen\n",
      "price -60\n",
      "...........pid for pizza-cheese is 36.............\n",
      "all updates registered successfully\n"
     ]
    }
   ],
   "source": [
    "addnewInInventary()"
   ]
  },
  {
   "cell_type": "code",
   "execution_count": 8,
   "id": "5e5c1b2d",
   "metadata": {},
   "outputs": [
    {
     "name": "stdout",
     "output_type": "stream",
     "text": [
      "name -calculator\n",
      "exp date --1\n",
      "quantity -50\n",
      "category -stationary\n",
      "price -250\n",
      "...........pid for calculator is 37.............\n",
      "all updates registered successfully\n"
     ]
    }
   ],
   "source": [
    "addnewInInventary()"
   ]
  },
  {
   "cell_type": "code",
   "execution_count": 9,
   "id": "5661311d",
   "metadata": {},
   "outputs": [
    {
     "name": "stdout",
     "output_type": "stream",
     "text": [
      "name -chips\n",
      "exp date -12-01-22\n",
      "quantity -58\n",
      "category -kitchen\n",
      "price -10\n",
      "...........pid for chips is 38.............\n",
      "all updates registered successfully\n"
     ]
    }
   ],
   "source": [
    "addnewInInventary()\n"
   ]
  },
  {
   "cell_type": "code",
   "execution_count": 10,
   "id": "ecc9571b",
   "metadata": {},
   "outputs": [
    {
     "name": "stdout",
     "output_type": "stream",
     "text": [
      "name -kurkure\n",
      "exp date -02-03-22\n",
      "quantity -100\n",
      "category -kitchen\n",
      "price -5\n",
      "...........pid for kurkure is 39.............\n",
      "all updates registered successfully\n"
     ]
    }
   ],
   "source": [
    "addnewInInventary()\n"
   ]
  },
  {
   "cell_type": "code",
   "execution_count": 29,
   "id": "2e3d931a",
   "metadata": {},
   "outputs": [],
   "source": [
    "def updatePerDayCal (dat,dic):\n",
    "    with  open(\"date.json\",\"r\") as f:\n",
    "        s =json.loads( f.read())\n",
    "    \n",
    "    if dat in s:\n",
    "        \n",
    "        for a in dic:\n",
    "            if a in s[dat]:\n",
    "                s[dat][a]+=dic[a]\n",
    "            else:\n",
    "                s[dat][a]=dic[a]\n",
    "    else:\n",
    "        s[dat] = dic\n",
    "        \n",
    "    with open (\"date.json\",\"w\") as f:\n",
    "        f.write(json.dumps(s))\n",
    "    print(\"all updates registered successfully\")"
   ]
  },
  {
   "cell_type": "code",
   "execution_count": 31,
   "id": "8737ed7a",
   "metadata": {},
   "outputs": [],
   "source": [
    "def buy():\n",
    "    d={}\n",
    "    ll=[]\n",
    "    t = 0\n",
    "    with  open(\"pro.json\",\"r\") as f:\n",
    "        s =json.loads( f.read())\n",
    "    n = int(input(\"enter no of different product you buy - \"))\n",
    "    for x in range(n):\n",
    "        pid = input(\"enter pid - \")\n",
    "        q= int(input(\"enter Quantity - \"))\n",
    "        d[pid]=q\n",
    "        s[pid][\"qunatity\"]-=q\n",
    "        \n",
    "        \n",
    "\n",
    "        lll = [pid,s[pid][\"name\"],s[pid][\"price(INR)\"],q]\n",
    "        ll.append(lll)\n",
    "\n",
    "    with open (\"pro.json\",\"w\") as f:\n",
    "        f.write(json.dumps(s))\n",
    "    print(\".......YOUR BILL IS..........\")\n",
    "    for a in ll:\n",
    "        print(f\"   {a[1]}  ->  {a[2]}   X    {a[3]}   =     {int(a[2])*int(a[3])}\"   )\n",
    "        t = t + int(a[2])*int(a[3])\n",
    "    print(f\"............Total amount is   =>   {t}\")\n",
    "    \n",
    "    dat = date.today()\n",
    "    today = str((str(dat.day)+\"-\"+str(dat.month)+\"-\" + str(dat.year)[2::]))\n",
    "    updatePerDayCal(today,d)\n",
    "\n",
    "    with  open(\"sales.json\",\"r\") as f:\n",
    "        o =json.loads( f.read())\n",
    "    d2={}\n",
    "    for x in ll:\n",
    "        d2[str(x[0])]=x[3]\n",
    "    \n",
    "    o[str(len(o)+1)]=d2\n",
    "    print(f\"your BILL NO IS - {len(o)}\")\n",
    "    with open (\"sales.json\",\"w\") as f:\n",
    "        f.write(json.dumps(o))"
   ]
  },
  {
   "cell_type": "code",
   "execution_count": 32,
   "id": "1a576f83",
   "metadata": {},
   "outputs": [
    {
     "name": "stdout",
     "output_type": "stream",
     "text": [
      "enter no of different product you buy - 2\n",
      "enter pid - 36\n",
      "enter Quantity - 1\n",
      "enter pid - 12\n",
      "enter Quantity - 1\n",
      ".......YOUR BILL IS..........\n",
      "   pizza-cheese  ->  60   X    1   =     60\n",
      "   notebook  ->  60   X    1   =     60\n",
      "............Total amount is   =>   120\n",
      "all updates registered successfully\n",
      "your BILL NO IS - 6\n"
     ]
    }
   ],
   "source": [
    "buy()"
   ]
  },
  {
   "cell_type": "code",
   "execution_count": 6,
   "id": "1e39d674",
   "metadata": {},
   "outputs": [],
   "source": [
    "def seeByPID():\n",
    "    with  open(\"pro.json\",\"r\") as f:\n",
    "        s =json.loads( f.read())\n",
    "\n",
    "    k = str(input(\"enter pid - \"))\n",
    "    if k in s:\n",
    "        n= s[k][\"name\"]\n",
    "        q= s[k][\"qunatity\"]\n",
    "        e =s[k][\"expdate\"]\n",
    "        c =s[k][\"category\"]\n",
    "        p =s[k][\"price(INR)\"]\n",
    "        print(f\"\"\"\n",
    "        pid - {k}\n",
    "        name - {n}\n",
    "        exp date  - {e} (if -1 = no expdate)\n",
    "        Quantity - {q}\n",
    "        price - {p} INR\n",
    "        category - {c}\"\"\")\n",
    "    else:\n",
    "        print(\"invalid pid\")"
   ]
  },
  {
   "cell_type": "code",
   "execution_count": 7,
   "id": "b214ca05",
   "metadata": {},
   "outputs": [
    {
     "name": "stdout",
     "output_type": "stream",
     "text": [
      "enter pid - 35\n",
      "\n",
      "        pid - 35\n",
      "        name - fanta\n",
      "        exp date  - 02-03-22 (if -1 = no expdate)\n",
      "        Quantity - 42\n",
      "        price - 25 INR\n",
      "        category - colddrink\n"
     ]
    }
   ],
   "source": [
    "seeByPID()"
   ]
  },
  {
   "cell_type": "code",
   "execution_count": 15,
   "id": "b53f45e9",
   "metadata": {},
   "outputs": [],
   "source": [
    "def showByCategory():\n",
    "    with  open(\"pro.json\",\"r\") as f:\n",
    "        s =json.loads( f.read())\n",
    "    c = input (\"category -\")\n",
    "    for k in s:\n",
    "        if s[k][\"category\"]==c:\n",
    "            n= s[k][\"name\"]\n",
    "            q= s[k][\"qunatity\"]\n",
    "            e =s[k][\"expdate\"]\n",
    "            p =s[k][\"price(INR)\"]\n",
    "            print(f\"\"\"\n",
    "            pid - {k}\n",
    "            name - {n}\n",
    "            exp date  - {e} (if -1 = no expdate)\n",
    "            Quantity - {q}\n",
    "            price - {p} INR\"\"\")\n"
   ]
  },
  {
   "cell_type": "code",
   "execution_count": 16,
   "id": "57eb0f11",
   "metadata": {},
   "outputs": [
    {
     "name": "stdout",
     "output_type": "stream",
     "text": [
      "category -cloths\n",
      "\n",
      "            pid - 19\n",
      "            name - shirt\n",
      "            exp date  - -1 (if -1 = no expdate)\n",
      "            Quantity - 50\n",
      "            price - 500 INR\n",
      "\n",
      "            pid - 20\n",
      "            name - t-shirt\n",
      "            exp date  - -1 (if -1 = no expdate)\n",
      "            Quantity - 56\n",
      "            price - 560 INR\n",
      "\n",
      "            pid - 21\n",
      "            name - jeans\n",
      "            exp date  - -1 (if -1 = no expdate)\n",
      "            Quantity - 40\n",
      "            price - 600 INR\n",
      "\n",
      "            pid - 30\n",
      "            name - shorts\n",
      "            exp date  - -1 (if -1 = no expdate)\n",
      "            Quantity - 50\n",
      "            price - 320 INR\n"
     ]
    }
   ],
   "source": [
    "showByCategory()"
   ]
  },
  {
   "cell_type": "code",
   "execution_count": 17,
   "id": "6ca64343",
   "metadata": {},
   "outputs": [
    {
     "name": "stdout",
     "output_type": "stream",
     "text": [
      "category -kitchen\n",
      "\n",
      "            pid - 18\n",
      "            name - ketchup\n",
      "            exp date  - 06-08-22 (if -1 = no expdate)\n",
      "            Quantity - 15\n",
      "            price - 67 INR\n",
      "\n",
      "            pid - 28\n",
      "            name - noodle\n",
      "            exp date  - 06-05-22 (if -1 = no expdate)\n",
      "            Quantity - 45\n",
      "            price - 15 INR\n",
      "\n",
      "            pid - 29\n",
      "            name - pasta\n",
      "            exp date  - 09-06-22 (if -1 = no expdate)\n",
      "            Quantity - 19\n",
      "            price - 56 INR\n",
      "\n",
      "            pid - 31\n",
      "            name - coffee\n",
      "            exp date  - 3012-21 (if -1 = no expdate)\n",
      "            Quantity - 60\n",
      "            price - 80 INR\n",
      "\n",
      "            pid - 32\n",
      "            name - tea\n",
      "            exp date  - 19-05-22 (if -1 = no expdate)\n",
      "            Quantity - 20\n",
      "            price - 60 INR\n",
      "\n",
      "            pid - 36\n",
      "            name - pizza-cheese\n",
      "            exp date  - 10-12-21 (if -1 = no expdate)\n",
      "            Quantity - 421\n",
      "            price - 60 INR\n",
      "\n",
      "            pid - 38\n",
      "            name - chips\n",
      "            exp date  - 12-01-22 (if -1 = no expdate)\n",
      "            Quantity - 58\n",
      "            price - 10 INR\n",
      "\n",
      "            pid - 39\n",
      "            name - kurkure\n",
      "            exp date  - 02-03-22 (if -1 = no expdate)\n",
      "            Quantity - 100\n",
      "            price - 5 INR\n"
     ]
    }
   ],
   "source": [
    "showByCategory()"
   ]
  },
  {
   "cell_type": "code",
   "execution_count": 39,
   "id": "95cc0139",
   "metadata": {},
   "outputs": [],
   "source": [
    "def updateQunatity():\n",
    "    pid = input(\"enter following details,  pID -\")\n",
    "    \n",
    "    q = int(input (\"quantity -\"))\n",
    "    \n",
    "    print(f\"current quntity is {q}\")\n",
    "    print(f\"to increse Quantity BY {q} press 1\")\n",
    "    print(f\"to set net Quantity TO {q} press 2\")\n",
    "    l =int(input())\n",
    "    with  open(\"pro.json\",\"r\") as f:\n",
    "        s =json.loads( f.read())\n",
    "    if l == 2:\n",
    "        s[str(pid)][\"qunatity\"]= q\n",
    "        print(f\"now net Quantity is {q}\")\n",
    "    else:\n",
    "        (s[str(pid)][\"qunatity\"])+= q\n",
    "        y =s[str(pid)][\"qunatity\"]\n",
    "        print(f\"now net Quantity is {y}\")\n",
    "    with open (\"pro.json\",\"w\") as f:\n",
    "        f.write(json.dumps(s))\n",
    "    print(\"all updates registered successfully\")"
   ]
  },
  {
   "cell_type": "code",
   "execution_count": 40,
   "id": "9ceb26a0",
   "metadata": {},
   "outputs": [
    {
     "name": "stdout",
     "output_type": "stream",
     "text": [
      "enter following details,  pID -1\n",
      "quantity -120\n",
      "current quntity is 120\n",
      "to increse Quantity BY 120 press 1\n",
      "to set net Quantity TO 120 press 2\n",
      "2\n",
      "now net Quantity is 120\n",
      "all updates registered successfully\n"
     ]
    }
   ],
   "source": [
    "updateQunatity()"
   ]
  },
  {
   "cell_type": "code",
   "execution_count": 41,
   "id": "43c68969",
   "metadata": {},
   "outputs": [
    {
     "name": "stdout",
     "output_type": "stream",
     "text": [
      "enter following details,  pID -1\n",
      "quantity -30\n",
      "current quntity is 30\n",
      "to increse Quantity BY 30 press 1\n",
      "to set net Quantity TO 30 press 2\n",
      "1\n",
      "now net Quantity is 150\n",
      "all updates registered successfully\n"
     ]
    }
   ],
   "source": [
    "updateQunatity()"
   ]
  },
  {
   "cell_type": "code",
   "execution_count": 18,
   "id": "4097e758",
   "metadata": {},
   "outputs": [],
   "source": [
    "def updateCategory():\n",
    "    pid = input(\"enter following details,  pID -\")\n",
    "   \n",
    "    c = input (\"category -\")\n",
    "\n",
    "    with  open(\"pro.json\",\"r\") as f:\n",
    "        s =json.loads( f.read())\n",
    "    s[str(pid)][\"category\"]= c\n",
    "\n",
    "    with open (\"pro.json\",\"w\") as f:\n",
    "        f.write(json.dumps(s))\n",
    "    print(\"all updates registered successfully\")"
   ]
  },
  {
   "cell_type": "code",
   "execution_count": 20,
   "id": "191441de",
   "metadata": {},
   "outputs": [
    {
     "name": "stdout",
     "output_type": "stream",
     "text": [
      "enter pid - 1\n",
      "\n",
      "        pid - 1\n",
      "        name - kitkat\n",
      "        exp date  - 07-01-22 (if -1 = no expdate)\n",
      "        Quantity - 90\n",
      "        price - 6 INR\n",
      "        category - chlate\n"
     ]
    }
   ],
   "source": [
    "seeByPID()"
   ]
  },
  {
   "cell_type": "code",
   "execution_count": 21,
   "id": "b21a4e59",
   "metadata": {},
   "outputs": [
    {
     "name": "stdout",
     "output_type": "stream",
     "text": [
      "enter following details,  pID -1\n",
      "category -choclate\n",
      "all updates registered successfully\n"
     ]
    }
   ],
   "source": [
    "updateCategory()\n"
   ]
  },
  {
   "cell_type": "code",
   "execution_count": 22,
   "id": "7beaeacf",
   "metadata": {},
   "outputs": [],
   "source": [
    "def updatePrice():\n",
    "    \n",
    "    pid = input(\"enter following details,  pID -\")\n",
    "    n = input(\"new PRICE -\") \n",
    "    \n",
    "\n",
    "    with  open(\"pro.json\",\"r\") as f:\n",
    "        s =json.loads( f.read())\n",
    "    if pid in s:        \n",
    "        s[str(pid)][\"price(INR)\"]= int(n)\n",
    "    \n",
    "\n",
    "        with open (\"pro.json\",\"w\") as f:\n",
    "            f.write(json.dumps(s))\n",
    "        print(\"all updates registered successfully\")\n",
    "    else:\n",
    "        print(\"invalid pid\")"
   ]
  },
  {
   "cell_type": "code",
   "execution_count": 23,
   "id": "28727ff2",
   "metadata": {},
   "outputs": [
    {
     "name": "stdout",
     "output_type": "stream",
     "text": [
      "enter following details,  pID -2\n",
      "new PRICE -12\n",
      "all updates registered successfully\n"
     ]
    }
   ],
   "source": [
    "updatePrice()"
   ]
  },
  {
   "cell_type": "code",
   "execution_count": 24,
   "id": "5eb809f9",
   "metadata": {},
   "outputs": [],
   "source": [
    "def updateName():\n",
    "    pid = input(\"enter following details,  pID -\")\n",
    "    n = input(\"name -\") \n",
    "    \n",
    "\n",
    "    with  open(\"pro.json\",\"r\") as f:\n",
    "        s =json.loads( f.read())\n",
    "    s[str(pid)][\"name\"]= n\n",
    "    \n",
    "\n",
    "    with open (\"pro.json\",\"w\") as f:\n",
    "        f.write(json.dumps(s))\n",
    "    print(\"all updates registered successfully\")"
   ]
  },
  {
   "cell_type": "code",
   "execution_count": 25,
   "id": "a080db96",
   "metadata": {},
   "outputs": [
    {
     "name": "stdout",
     "output_type": "stream",
     "text": [
      "enter following details,  pID -1\n",
      "name -kit-kat\n",
      "all updates registered successfully\n"
     ]
    }
   ],
   "source": [
    "updateName()"
   ]
  },
  {
   "cell_type": "code",
   "execution_count": 26,
   "id": "59163182",
   "metadata": {},
   "outputs": [
    {
     "name": "stdout",
     "output_type": "stream",
     "text": [
      "enter pid - 1\n",
      "\n",
      "        pid - 1\n",
      "        name - kit-kat\n",
      "        exp date  - 07-01-22 (if -1 = no expdate)\n",
      "        Quantity - 90\n",
      "        price - 6 INR\n",
      "        category - choclate\n"
     ]
    }
   ],
   "source": [
    "seeByPID()"
   ]
  },
  {
   "cell_type": "code",
   "execution_count": 36,
   "id": "55d82463",
   "metadata": {},
   "outputs": [],
   "source": [
    "\n",
    "def viewSalesByDate():\n",
    "    dat = input(\"enter date to search \")\n",
    "    with  open(\"date.json\",\"r\") as f:\n",
    "        s =json.loads( f.read())\n",
    "        if dat in s:\n",
    "        \n",
    "            for a in s[dat]:\n",
    "                print(f\"pid - {a}   quantity sold -  {s[dat][a]}\")\n",
    "        else:\n",
    "            print(\"wrong date\")"
   ]
  },
  {
   "cell_type": "code",
   "execution_count": 35,
   "id": "57025435",
   "metadata": {},
   "outputs": [
    {
     "name": "stdout",
     "output_type": "stream",
     "text": [
      "enter date to search5-9-21\n",
      "pid - 1   quantity sold -  2\n",
      "pid - 4   quantity sold -  2\n",
      "pid - 29   quantity sold -  3\n",
      "pid - 23   quantity sold -  1\n",
      "pid - 26   quantity sold -  1\n",
      "pid - 31   quantity sold -  2\n",
      "pid - 25   quantity sold -  2\n",
      "pid - 6   quantity sold -  3\n",
      "pid - 36   quantity sold -  1\n",
      "pid - 12   quantity sold -  1\n"
     ]
    }
   ],
   "source": [
    "viewSalesByDate()"
   ]
  },
  {
   "cell_type": "code",
   "execution_count": 37,
   "id": "eb78a52f",
   "metadata": {},
   "outputs": [],
   "source": [
    "def updateAll():\n",
    "    pid = input(\"enter following details,  pID -\")\n",
    "    n = input(\"name -\") \n",
    "    e = input (\"exp date -\" )\n",
    "    q = int(input (\"quantity -\"))\n",
    "    c = input (\"category -\")\n",
    "    p = int(input(\"price(INR)\"))\n",
    "\n",
    "    with  open(\"pro.json\",\"r\") as f:\n",
    "        s =json.loads( f.read())\n",
    "    s[str(pid)][\"name\"]= n\n",
    "    s[str(pid)][\"qunatity\"]= q\n",
    "    s[str(pid)][\"expdate\"]= e\n",
    "    s[str(pid)][\"category\"]= c\n",
    "    s[str(pid)][\"price(INR)\"]= p\n",
    "\n",
    "    with open (\"pro.json\",\"w\") as f:\n",
    "        f.write(json.dumps(s))\n",
    "    print(\"all updates registered successfully\")"
   ]
  },
  {
   "cell_type": "code",
   "execution_count": 38,
   "id": "58140129",
   "metadata": {},
   "outputs": [
    {
     "name": "stdout",
     "output_type": "stream",
     "text": [
      "enter following details,  pID -1\n",
      "name -kitkat\n",
      "exp date -02-08-22\n",
      "quantity -150\n",
      "category -choclate\n",
      "price(INR)7\n",
      "all updates registered successfully\n"
     ]
    }
   ],
   "source": [
    "updateAll()\n"
   ]
  },
  {
   "cell_type": "code",
   "execution_count": 42,
   "id": "c43ac3a9",
   "metadata": {},
   "outputs": [],
   "source": [
    "def viewDetailByBillNo():\n",
    "    n = input(\"Enter bill no - \")\n",
    "    with  open(\"sales.json\",\"r\") as f:\n",
    "        s =json.loads( f.read())\n",
    "\n",
    "    with  open(\"pro.json\",\"r\") as f:\n",
    "        g =json.loads( f.read())\n",
    "\n",
    "    d = s[n]\n",
    "    print(f\"bill history of bill no - {n}\")\n",
    "    v=1\n",
    "    for x in d:\n",
    "        h=g[x][\"name\"]\n",
    "        print(f\"{v})  -  {h}  ,pid - {x}  ,quantity - {d[x]}  \")\n",
    "        v=v+1   "
   ]
  },
  {
   "cell_type": "code",
   "execution_count": 43,
   "id": "868fc5bc",
   "metadata": {},
   "outputs": [
    {
     "name": "stdout",
     "output_type": "stream",
     "text": [
      "Enter bill no - 3\n",
      "bill history of bill no - 3\n",
      "1)  -  puma shoes  ,pid - 23  ,quantity - 1  \n",
      "2)  -  amul paneer  ,pid - 4  ,quantity - 1  \n",
      "3)  -  cheese-slice  ,pid - 26  ,quantity - 1  \n"
     ]
    }
   ],
   "source": [
    "viewDetailByBillNo()"
   ]
  },
  {
   "cell_type": "code",
   "execution_count": 44,
   "id": "04e9c64c",
   "metadata": {},
   "outputs": [
    {
     "name": "stdout",
     "output_type": "stream",
     "text": [
      "Enter bill no - 6\n",
      "bill history of bill no - 6\n",
      "1)  -  pizza-cheese  ,pid - 36  ,quantity - 1  \n",
      "2)  -  notebook  ,pid - 12  ,quantity - 1  \n"
     ]
    }
   ],
   "source": [
    "viewDetailByBillNo()"
   ]
  },
  {
   "cell_type": "code",
   "execution_count": 45,
   "id": "04d8574d",
   "metadata": {},
   "outputs": [],
   "source": [
    "def updateAll():\n",
    "    pid = input(\"enter following details,  pID -\")\n",
    "    n = input(\"name -\") \n",
    "    e = input (\"exp date -\" )\n",
    "    q = int(input (\"quantity -\"))\n",
    "    c = input (\"category -\")\n",
    "    p = int(input(\"price(INR)\"))\n",
    "\n",
    "    with  open(\"pro.json\",\"r\") as f:\n",
    "        s =json.loads( f.read())\n",
    "    s[str(pid)][\"name\"]= n\n",
    "    s[str(pid)][\"qunatity\"]= q\n",
    "    s[str(pid)][\"expdate\"]= e\n",
    "    s[str(pid)][\"category\"]= c\n",
    "    s[str(pid)][\"price(INR)\"]= p\n",
    "\n",
    "    with open (\"pro.json\",\"w\") as f:\n",
    "        f.write(json.dumps(s))\n",
    "    print(\"all updates registered successfully\")"
   ]
  },
  {
   "cell_type": "code",
   "execution_count": 46,
   "id": "d1a32526",
   "metadata": {},
   "outputs": [
    {
     "name": "stdout",
     "output_type": "stream",
     "text": [
      "enter following details,  pID -1\n",
      "name -kit-kat\n",
      "exp date -02-03-21\n",
      "quantity -200\n",
      "category -choclate\n",
      "price(INR)5\n",
      "all updates registered successfully\n"
     ]
    }
   ],
   "source": [
    "updateAll()"
   ]
  },
  {
   "cell_type": "code",
   "execution_count": 47,
   "id": "1736ffe5",
   "metadata": {},
   "outputs": [],
   "source": [
    "def updateCategory():\n",
    "    pid = input(\"enter following details,  pID -\")\n",
    "   \n",
    "    c = input (\"category -\")\n",
    "\n",
    "    with  open(\"pro.json\",\"r\") as f:\n",
    "        s =json.loads( f.read())\n",
    "    s[str(pid)][\"category\"]= c\n",
    "\n",
    "    with open (\"pro.json\",\"w\") as f:\n",
    "        f.write(json.dumps(s))\n",
    "    print(\"all updates registered successfully\")"
   ]
  },
  {
   "cell_type": "code",
   "execution_count": 50,
   "id": "7621a65e",
   "metadata": {},
   "outputs": [
    {
     "name": "stdout",
     "output_type": "stream",
     "text": [
      "enter pid - 17\n",
      "\n",
      "        pid - 17\n",
      "        name - a4-papers\n",
      "        exp date  - -1 (if -1 = no expdate)\n",
      "        Quantity - 500\n",
      "        price - 1 INR\n",
      "        category - statary\n"
     ]
    }
   ],
   "source": [
    "seeByPID()"
   ]
  },
  {
   "cell_type": "code",
   "execution_count": 51,
   "id": "fc28b816",
   "metadata": {},
   "outputs": [
    {
     "name": "stdout",
     "output_type": "stream",
     "text": [
      "enter following details,  pID -17\n",
      "category -stationary\n",
      "all updates registered successfully\n"
     ]
    }
   ],
   "source": [
    "updateCategory()"
   ]
  },
  {
   "cell_type": "code",
   "execution_count": 52,
   "id": "3f4ea2e6",
   "metadata": {},
   "outputs": [
    {
     "name": "stdout",
     "output_type": "stream",
     "text": [
      "enter pid - 17\n",
      "\n",
      "        pid - 17\n",
      "        name - a4-papers\n",
      "        exp date  - -1 (if -1 = no expdate)\n",
      "        Quantity - 500\n",
      "        price - 1 INR\n",
      "        category - stationary\n"
     ]
    }
   ],
   "source": [
    "seeByPID()"
   ]
  },
  {
   "cell_type": "code",
   "execution_count": 53,
   "id": "d939f28f",
   "metadata": {},
   "outputs": [],
   "source": [
    "\n",
    "\n",
    "def viewDates():\n",
    "    with  open(\"date.json\",\"r\") as f:\n",
    "        s =json.loads( f.read())\n",
    "    for x in s:\n",
    "        print(f\"sale of date {x} ..........\")\n",
    "        for y in s[x]:\n",
    "            print(f\"pid - {y}   quantity sold -  {s[x][y]}\")"
   ]
  },
  {
   "cell_type": "code",
   "execution_count": 54,
   "id": "e424dd2c",
   "metadata": {},
   "outputs": [
    {
     "name": "stdout",
     "output_type": "stream",
     "text": [
      "sale of date 20-08-21 ..........\n",
      "pid - 1   quantity sold -  5\n",
      "pid - 2   quantity sold -  6\n",
      "pid - 9   quantity sold -  5\n",
      "pid - 28   quantity sold -  2\n",
      "sale of date 21-08-21 ..........\n",
      "pid - 1   quantity sold -  5\n",
      "pid - 2   quantity sold -  6\n",
      "pid - 9   quantity sold -  5\n",
      "pid - 23   quantity sold -  2\n",
      "pid - 13   quantity sold -  6\n",
      "pid - 19   quantity sold -  5\n",
      "pid - 31   quantity sold -  2\n",
      "sale of date 22-08-21 ..........\n",
      "pid - 1   quantity sold -  8\n",
      "pid - 2   quantity sold -  6\n",
      "pid - 9   quantity sold -  5\n",
      "pid - 14   quantity sold -  5\n",
      "pid - 29   quantity sold -  2\n",
      "sale of date 25-08-21 ..........\n",
      "pid - 1   quantity sold -  8\n",
      "pid - 17   quantity sold -  6\n",
      "pid - 29   quantity sold -  5\n",
      "pid - 16   quantity sold -  2\n",
      "pid - 32   quantity sold -  5\n",
      "sale of date 26-08-21 ..........\n",
      "pid - 5   quantity sold -  6\n",
      "pid - 24   quantity sold -  6\n",
      "sale of date 28-08-21 ..........\n",
      "pid - 6   quantity sold -  9\n",
      "pid - 23   quantity sold -  4\n",
      "pid - 19   quantity sold -  15\n",
      "pid - 14   quantity sold -  6\n",
      "sale of date 29-08-21 ..........\n",
      "pid - 22   quantity sold -  6\n",
      "pid - 25   quantity sold -  9\n",
      "pid - 12   quantity sold -  3\n",
      "pid - 19   quantity sold -  2\n",
      "pid - 4   quantity sold -  1\n",
      "pid - 3   quantity sold -  4\n",
      "pid - 26   quantity sold -  5\n",
      "sale of date 31-08-21 ..........\n",
      "pid - 1   quantity sold -  5\n",
      "pid - 2   quantity sold -  26\n",
      "pid - 19   quantity sold -  5\n",
      "pid - 16   quantity sold -  2\n",
      "sale of date 2-9-21 ..........\n",
      "pid - 1   quantity sold -  1\n",
      "sale of date 5-9-21 ..........\n",
      "pid - 1   quantity sold -  2\n",
      "pid - 4   quantity sold -  2\n",
      "pid - 29   quantity sold -  3\n",
      "pid - 23   quantity sold -  1\n",
      "pid - 26   quantity sold -  1\n",
      "pid - 31   quantity sold -  2\n",
      "pid - 25   quantity sold -  2\n",
      "pid - 6   quantity sold -  3\n",
      "pid - 36   quantity sold -  1\n",
      "pid - 12   quantity sold -  1\n"
     ]
    }
   ],
   "source": [
    "viewDates()"
   ]
  },
  {
   "cell_type": "code",
   "execution_count": 55,
   "id": "bc18983e",
   "metadata": {},
   "outputs": [],
   "source": [
    "def seeAll():\n",
    "    with  open(\"pro.json\",\"r\") as f:\n",
    "        s =json.loads( f.read())\n",
    "    \n",
    "    for k in s:\n",
    "            n= s[k][\"name\"]\n",
    "            q= s[k][\"qunatity\"]\n",
    "            e =s[k][\"expdate\"]\n",
    "            c =s[k][\"category\"]\n",
    "            p =s[k][\"price(INR)\"]\n",
    "            print(f\"\"\"\n",
    "            pid - {k}\n",
    "            name - {n}\n",
    "            exp date  - {e} (if -1 = no expdate)\n",
    "            Quantity - {q}\n",
    "            price - {p} INR\n",
    "            category - {c}\"\"\")"
   ]
  },
  {
   "cell_type": "code",
   "execution_count": 56,
   "id": "90d8fe24",
   "metadata": {},
   "outputs": [
    {
     "name": "stdout",
     "output_type": "stream",
     "text": [
      "\n",
      "            pid - 1\n",
      "            name - kit-kat\n",
      "            exp date  - 02-03-21 (if -1 = no expdate)\n",
      "            Quantity - 200\n",
      "            price - 5 INR\n",
      "            category - choclate\n",
      "\n",
      "            pid - 2\n",
      "            name - 5 star\n",
      "            exp date  - 07-07-22 (if -1 = no expdate)\n",
      "            Quantity - 100\n",
      "            price - 12 INR\n",
      "            category - choclate\n",
      "\n",
      "            pid - 3\n",
      "            name - eclair\n",
      "            exp date  - 04-01-22 (if -1 = no expdate)\n",
      "            Quantity - 998\n",
      "            price - 1 INR\n",
      "            category - choclate\n",
      "\n",
      "            pid - 4\n",
      "            name - amul paneer\n",
      "            exp date  - 10-09-21 (if -1 = no expdate)\n",
      "            Quantity - 48\n",
      "            price - 70 INR\n",
      "            category - fresh\n",
      "\n",
      "            pid - 5\n",
      "            name - bread\n",
      "            exp date  - 10-09-21 (if -1 = no expdate)\n",
      "            Quantity - 10\n",
      "            price - 30 INR\n",
      "            category - fresh\n",
      "\n",
      "            pid - 6\n",
      "            name - amul cheese\n",
      "            exp date  - 18-09-21 (if -1 = no expdate)\n",
      "            Quantity - 22\n",
      "            price - 100 INR\n",
      "            category - fresh\n",
      "\n",
      "            pid - 7\n",
      "            name - cello bottle\n",
      "            exp date  - -1 (if -1 = no expdate)\n",
      "            Quantity - 15\n",
      "            price - 100 INR\n",
      "            category - bottle\n",
      "\n",
      "            pid - 8\n",
      "            name - cello tiffin\n",
      "            exp date  - -1 (if -1 = no expdate)\n",
      "            Quantity - 20\n",
      "            price - 150 INR\n",
      "            category - tiffin\n",
      "\n",
      "            pid - 9\n",
      "            name - apsara eraser\n",
      "            exp date  - -1 (if -1 = no expdate)\n",
      "            Quantity - 60\n",
      "            price - 5 INR\n",
      "            category - stationary\n",
      "\n",
      "            pid - 10\n",
      "            name - apsara pencil\n",
      "            exp date  - -1 (if -1 = no expdate)\n",
      "            Quantity - 40\n",
      "            price - 7 INR\n",
      "            category - stationary\n",
      "\n",
      "            pid - 11\n",
      "            name - natraj shrapner\n",
      "            exp date  - -1 (if -1 = no expdate)\n",
      "            Quantity - 60\n",
      "            price - 6 INR\n",
      "            category - stationary\n",
      "\n",
      "            pid - 12\n",
      "            name - notebook\n",
      "            exp date  - -1 (if -1 = no expdate)\n",
      "            Quantity - 49\n",
      "            price - 60 INR\n",
      "            category - stationary\n",
      "\n",
      "            pid - 13\n",
      "            name - ball pen\n",
      "            exp date  - -1 (if -1 = no expdate)\n",
      "            Quantity - 100\n",
      "            price - 10 INR\n",
      "            category - stationary\n",
      "\n",
      "            pid - 14\n",
      "            name - scale\n",
      "            exp date  - -1 (if -1 = no expdate)\n",
      "            Quantity - 50\n",
      "            price - 12 INR\n",
      "            category - stationary\n",
      "\n",
      "            pid - 15\n",
      "            name - dairy milk\n",
      "            exp date  - 10-02-22 (if -1 = no expdate)\n",
      "            Quantity - 54\n",
      "            price - 10 INR\n",
      "            category - choclate\n",
      "\n",
      "            pid - 16\n",
      "            name - kitkat\n",
      "            exp date  - 06-05-22 (if -1 = no expdate)\n",
      "            Quantity - 48\n",
      "            price - 30 INR\n",
      "            category - choclate\n",
      "\n",
      "            pid - 17\n",
      "            name - a4-papers\n",
      "            exp date  - -1 (if -1 = no expdate)\n",
      "            Quantity - 500\n",
      "            price - 1 INR\n",
      "            category - stationary\n",
      "\n",
      "            pid - 18\n",
      "            name - ketchup\n",
      "            exp date  - 06-08-22 (if -1 = no expdate)\n",
      "            Quantity - 15\n",
      "            price - 67 INR\n",
      "            category - kitchen\n",
      "\n",
      "            pid - 19\n",
      "            name - shirt\n",
      "            exp date  - -1 (if -1 = no expdate)\n",
      "            Quantity - 50\n",
      "            price - 500 INR\n",
      "            category - cloths\n",
      "\n",
      "            pid - 20\n",
      "            name - t-shirt\n",
      "            exp date  - -1 (if -1 = no expdate)\n",
      "            Quantity - 56\n",
      "            price - 560 INR\n",
      "            category - cloths\n",
      "\n",
      "            pid - 21\n",
      "            name - jeans\n",
      "            exp date  - -1 (if -1 = no expdate)\n",
      "            Quantity - 40\n",
      "            price - 600 INR\n",
      "            category - cloths\n",
      "\n",
      "            pid - 22\n",
      "            name - nike shoes\n",
      "            exp date  - -1 (if -1 = no expdate)\n",
      "            Quantity - 44\n",
      "            price - 900 INR\n",
      "            category - footwear\n",
      "\n",
      "            pid - 23\n",
      "            name - puma shoes\n",
      "            exp date  - -1 (if -1 = no expdate)\n",
      "            Quantity - 599\n",
      "            price - 690 INR\n",
      "            category - footwear\n",
      "\n",
      "            pid - 24\n",
      "            name - sandals\n",
      "            exp date  - -1 (if -1 = no expdate)\n",
      "            Quantity - 44\n",
      "            price - 520 INR\n",
      "            category - footwear\n",
      "\n",
      "            pid - 25\n",
      "            name - slippers\n",
      "            exp date  - -1 (if -1 = no expdate)\n",
      "            Quantity - 37\n",
      "            price - 300 INR\n",
      "            category - footwear\n",
      "\n",
      "            pid - 26\n",
      "            name - cheese-slice\n",
      "            exp date  - 19-02-22 (if -1 = no expdate)\n",
      "            Quantity - 46\n",
      "            price - 15 INR\n",
      "            category - fresh\n",
      "\n",
      "            pid - 27\n",
      "            name - notebook\n",
      "            exp date  - -1 (if -1 = no expdate)\n",
      "            Quantity - 60\n",
      "            price - 30 INR\n",
      "            category - stationary\n",
      "\n",
      "            pid - 28\n",
      "            name - noodle\n",
      "            exp date  - 06-05-22 (if -1 = no expdate)\n",
      "            Quantity - 45\n",
      "            price - 15 INR\n",
      "            category - kitchen\n",
      "\n",
      "            pid - 29\n",
      "            name - pasta\n",
      "            exp date  - 09-06-22 (if -1 = no expdate)\n",
      "            Quantity - 19\n",
      "            price - 56 INR\n",
      "            category - kitchen\n",
      "\n",
      "            pid - 30\n",
      "            name - shorts\n",
      "            exp date  - -1 (if -1 = no expdate)\n",
      "            Quantity - 50\n",
      "            price - 320 INR\n",
      "            category - cloths\n",
      "\n",
      "            pid - 31\n",
      "            name - coffee\n",
      "            exp date  - 3012-21 (if -1 = no expdate)\n",
      "            Quantity - 60\n",
      "            price - 80 INR\n",
      "            category - kitchen\n",
      "\n",
      "            pid - 32\n",
      "            name - tea\n",
      "            exp date  - 19-05-22 (if -1 = no expdate)\n",
      "            Quantity - 20\n",
      "            price - 60 INR\n",
      "            category - kitchen\n",
      "\n",
      "            pid - 33\n",
      "            name - coco-cola\n",
      "            exp date  - 10-05-22 (if -1 = no expdate)\n",
      "            Quantity - 120\n",
      "            price - 20 INR\n",
      "            category - coldrink\n",
      "\n",
      "            pid - 34\n",
      "            name - limca\n",
      "            exp date  - 10-11-21 (if -1 = no expdate)\n",
      "            Quantity - 40\n",
      "            price - 30 INR\n",
      "            category - colddrink\n",
      "\n",
      "            pid - 35\n",
      "            name - fanta\n",
      "            exp date  - 02-03-22 (if -1 = no expdate)\n",
      "            Quantity - 42\n",
      "            price - 25 INR\n",
      "            category - colddrink\n",
      "\n",
      "            pid - 36\n",
      "            name - pizza-cheese\n",
      "            exp date  - 10-12-21 (if -1 = no expdate)\n",
      "            Quantity - 420\n",
      "            price - 60 INR\n",
      "            category - kitchen\n",
      "\n",
      "            pid - 37\n",
      "            name - calculator\n",
      "            exp date  - -1 (if -1 = no expdate)\n",
      "            Quantity - 50\n",
      "            price - 250 INR\n",
      "            category - stationary\n",
      "\n",
      "            pid - 38\n",
      "            name - chips\n",
      "            exp date  - 12-01-22 (if -1 = no expdate)\n",
      "            Quantity - 58\n",
      "            price - 10 INR\n",
      "            category - kitchen\n",
      "\n",
      "            pid - 39\n",
      "            name - kurkure\n",
      "            exp date  - 02-03-22 (if -1 = no expdate)\n",
      "            Quantity - 100\n",
      "            price - 5 INR\n",
      "            category - kitchen\n"
     ]
    }
   ],
   "source": [
    "seeAll()"
   ]
  },
  {
   "cell_type": "code",
   "execution_count": null,
   "id": "fecbda07",
   "metadata": {},
   "outputs": [],
   "source": []
  }
 ],
 "metadata": {
  "kernelspec": {
   "display_name": "Python 3",
   "language": "python",
   "name": "python3"
  },
  "language_info": {
   "codemirror_mode": {
    "name": "ipython",
    "version": 3
   },
   "file_extension": ".py",
   "mimetype": "text/x-python",
   "name": "python",
   "nbconvert_exporter": "python",
   "pygments_lexer": "ipython3",
   "version": "3.9.1"
  }
 },
 "nbformat": 4,
 "nbformat_minor": 5
}
